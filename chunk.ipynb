{
 "cells": [
  {
   "cell_type": "code",
   "execution_count": null,
   "id": "74b3c524",
   "metadata": {},
   "outputs": [],
   "source": [
    "import os\n",
    "import re\n",
    "from docx import Document\n",
    "import tiktoken\n",
    "\n",
    "from langchain_text_splitters import (\n",
    "    TokenTextSplitter,\n",
    "    RecursiveCharacterTextSplitter\n",
    ")\n",
    "from langchain_google_genai import (\n",
    "    GoogleGenerativeAIEmbeddings,\n",
    "    ChatGoogleGenerativeAI\n",
    ")\n",
    "from langchain_community.document_loaders import UnstructuredWordDocumentLoader\n",
    "\n",
    "from dotenv import load_dotenv\n",
    "from langchain_community.vectorstores import Pinecone\n",
    "from tqdm.auto import tqdm as notebook_tqdm\n",
    "\n",
    "from langchain_community.retrievers import PineconeHybridSearchRetriever"
   ]
  },
  {
   "cell_type": "code",
   "execution_count": 9,
   "id": "5642e277",
   "metadata": {},
   "outputs": [],
   "source": [
    "load_dotenv()\n",
    "# Load environment variables    \n",
    "google_api_key = os.getenv(\"GOOGLE_API_KEY\")\n",
    "pc_api_key = os.getenv(\"PINECONE_API_KEY\")"
   ]
  },
  {
   "cell_type": "code",
   "execution_count": null,
   "id": "68316136",
   "metadata": {},
   "outputs": [],
   "source": []
  }
 ],
 "metadata": {
  "kernelspec": {
   "display_name": ".venv",
   "language": "python",
   "name": "python3"
  },
  "language_info": {
   "codemirror_mode": {
    "name": "ipython",
    "version": 3
   },
   "file_extension": ".py",
   "mimetype": "text/x-python",
   "name": "python",
   "nbconvert_exporter": "python",
   "pygments_lexer": "ipython3",
   "version": "3.12.1"
  }
 },
 "nbformat": 4,
 "nbformat_minor": 5
}
